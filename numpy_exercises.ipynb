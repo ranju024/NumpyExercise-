{
  "cells": [
    {
      "cell_type": "markdown",
      "metadata": {
        "id": "UBiRO_LPdx9_"
      },
      "source": [
        "# NumPy Practice\n"
      ]
    },
    {
      "cell_type": "code",
      "execution_count": 30,
      "metadata": {
        "id": "fC9IMt6xdx-F"
      },
      "outputs": [],
      "source": [
        "# Import NumPy as its abbreviation 'np'\n",
        "import numpy as np\n"
      ]
    },
    {
      "cell_type": "code",
      "execution_count": 31,
      "metadata": {
        "id": "YGTXTMqOdx-I"
      },
      "outputs": [],
      "source": [
        "# Create a 1-dimensional NumPy array using np.array()\n",
        "a1 = np.array([1,2,3])\n",
        "\n",
        "# Create a 2-dimensional NumPy array using np.array()\n",
        "a2 = np.array([[1,2,3],\n",
        "              [4,5,6]])\n",
        "\n",
        "# Create a 3-dimensional Numpy array using np.array()\n",
        "a3 = np.array([\n",
        "    [1,2,3],\n",
        "    [4,5,6],\n",
        "    [7,8,9]\n",
        "])"
      ]
    },
    {
      "cell_type": "code",
      "execution_count": 32,
      "metadata": {},
      "outputs": [
        {
          "data": {
            "text/plain": [
              "array([1, 2, 3])"
            ]
          },
          "execution_count": 32,
          "metadata": {},
          "output_type": "execute_result"
        }
      ],
      "source": [
        "a1"
      ]
    },
    {
      "cell_type": "markdown",
      "metadata": {
        "id": "hptQy0IKdx-J"
      },
      "source": [
        "Now we've you've created 3 different arrays, let's find details about them.\n",
        "\n",
        "Find the shape, number of dimensions, data type, size and type of each array."
      ]
    },
    {
      "cell_type": "code",
      "execution_count": 33,
      "metadata": {
        "id": "QJUDVkQ-dx-K"
      },
      "outputs": [
        {
          "data": {
            "text/plain": [
              "((3,), 1, dtype('int32'), 3, numpy.ndarray)"
            ]
          },
          "execution_count": 33,
          "metadata": {},
          "output_type": "execute_result"
        }
      ],
      "source": [
        "# Attributes of 1-dimensional array (shape,\n",
        "# number of dimensions, data type, size and type)\n",
        "a1.shape, a1.ndim,a1.dtype,a1.size,type(a1)"
      ]
    },
    {
      "cell_type": "code",
      "execution_count": 34,
      "metadata": {
        "id": "qe990e1Kdx-L"
      },
      "outputs": [
        {
          "data": {
            "text/plain": [
              "((2, 3), 2, dtype('int32'), 6, numpy.ndarray)"
            ]
          },
          "execution_count": 34,
          "metadata": {},
          "output_type": "execute_result"
        }
      ],
      "source": [
        "# Attributes of 2-dimensional array\n",
        "a2.shape, a2.ndim, a2.dtype, a2.size, type(a2)"
      ]
    },
    {
      "cell_type": "code",
      "execution_count": 35,
      "metadata": {
        "id": "B0QhB36pdx-M"
      },
      "outputs": [
        {
          "data": {
            "text/plain": [
              "((3, 3), 2, 9, dtype('int32'), numpy.ndarray)"
            ]
          },
          "execution_count": 35,
          "metadata": {},
          "output_type": "execute_result"
        }
      ],
      "source": [
        "# Attributes of 3-dimensional array\n",
        "a3.shape, a3.ndim, a3.size, a3.dtype, type(a3)"
      ]
    },
    {
      "cell_type": "code",
      "execution_count": 36,
      "metadata": {
        "id": "1paeT2n1dx-M"
      },
      "outputs": [
        {
          "data": {
            "text/html": [
              "<div>\n",
              "<style scoped>\n",
              "    .dataframe tbody tr th:only-of-type {\n",
              "        vertical-align: middle;\n",
              "    }\n",
              "\n",
              "    .dataframe tbody tr th {\n",
              "        vertical-align: top;\n",
              "    }\n",
              "\n",
              "    .dataframe thead th {\n",
              "        text-align: right;\n",
              "    }\n",
              "</style>\n",
              "<table border=\"1\" class=\"dataframe\">\n",
              "  <thead>\n",
              "    <tr style=\"text-align: right;\">\n",
              "      <th></th>\n",
              "      <th>a1</th>\n",
              "    </tr>\n",
              "  </thead>\n",
              "  <tbody>\n",
              "    <tr>\n",
              "      <th>0</th>\n",
              "      <td>1</td>\n",
              "    </tr>\n",
              "    <tr>\n",
              "      <th>1</th>\n",
              "      <td>2</td>\n",
              "    </tr>\n",
              "    <tr>\n",
              "      <th>2</th>\n",
              "      <td>3</td>\n",
              "    </tr>\n",
              "  </tbody>\n",
              "</table>\n",
              "</div>"
            ],
            "text/plain": [
              "   a1\n",
              "0   1\n",
              "1   2\n",
              "2   3"
            ]
          },
          "execution_count": 36,
          "metadata": {},
          "output_type": "execute_result"
        }
      ],
      "source": [
        "# Import pandas and create a DataFrame out of one\n",
        "# of the arrays you've created\n",
        "import pandas as pd\n",
        "adf1 = pd.DataFrame({\"a1\": a1})\n",
        "adf1\n"
      ]
    },
    {
      "cell_type": "code",
      "execution_count": 37,
      "metadata": {
        "id": "CtrDrwQRdx-N"
      },
      "outputs": [
        {
          "data": {
            "text/plain": [
              "array([[1, 1],\n",
              "       [1, 1],\n",
              "       [1, 1],\n",
              "       [1, 1],\n",
              "       [1, 1],\n",
              "       [1, 1],\n",
              "       [1, 1],\n",
              "       [1, 1],\n",
              "       [1, 1],\n",
              "       [1, 1]])"
            ]
          },
          "execution_count": 37,
          "metadata": {},
          "output_type": "execute_result"
        }
      ],
      "source": [
        "# Create an array of shape (10, 2) with only ones\n",
        "shape = (10,2)\n",
        "np.ones(shape, dtype= int)"
      ]
    },
    {
      "cell_type": "code",
      "execution_count": 38,
      "metadata": {
        "id": "E4LFW9K2dx-O"
      },
      "outputs": [
        {
          "data": {
            "text/plain": [
              "array([[[0, 0, 0],\n",
              "        [0, 0, 0]],\n",
              "\n",
              "       [[0, 0, 0],\n",
              "        [0, 0, 0]],\n",
              "\n",
              "       [[0, 0, 0],\n",
              "        [0, 0, 0]],\n",
              "\n",
              "       [[0, 0, 0],\n",
              "        [0, 0, 0]],\n",
              "\n",
              "       [[0, 0, 0],\n",
              "        [0, 0, 0]],\n",
              "\n",
              "       [[0, 0, 0],\n",
              "        [0, 0, 0]],\n",
              "\n",
              "       [[0, 0, 0],\n",
              "        [0, 0, 0]]])"
            ]
          },
          "execution_count": 38,
          "metadata": {},
          "output_type": "execute_result"
        }
      ],
      "source": [
        "# Create an array of shape (7, 2, 3) of only zeros\n",
        "shape = (7, 2, 3)\n",
        "np.zeros(shape, dtype= int)"
      ]
    },
    {
      "cell_type": "code",
      "execution_count": 39,
      "metadata": {
        "id": "AeN74-xadx-Q"
      },
      "outputs": [
        {
          "data": {
            "text/plain": [
              "array([ 0,  3,  6,  9, 12, 15, 18, 21, 24, 27, 30, 33, 36, 39, 42, 45, 48,\n",
              "       51, 54, 57, 60, 63, 66, 69, 72, 75, 78, 81, 84, 87, 90, 93, 96, 99])"
            ]
          },
          "execution_count": 39,
          "metadata": {},
          "output_type": "execute_result"
        }
      ],
      "source": [
        "# Create an array within a range of 0 and 100 with step 3\n",
        "p1 = np.arange(0, 100, 3)\n",
        "p1"
      ]
    },
    {
      "cell_type": "code",
      "execution_count": 40,
      "metadata": {
        "id": "FA8Fkdnidx-Q"
      },
      "outputs": [
        {
          "data": {
            "text/plain": [
              "array([[6, 8],\n",
              "       [6, 0],\n",
              "       [0, 8],\n",
              "       [8, 3],\n",
              "       [8, 2],\n",
              "       [6, 5],\n",
              "       [7, 8]])"
            ]
          },
          "execution_count": 40,
          "metadata": {},
          "output_type": "execute_result"
        }
      ],
      "source": [
        "# Create a random array with numbers between 0 and 10 of size (7, 2)\n",
        "p2 = np.random.randint(0,10, size = (7,2))\n",
        "p2"
      ]
    },
    {
      "cell_type": "code",
      "execution_count": 41,
      "metadata": {
        "id": "wOWnOHVodx-R"
      },
      "outputs": [
        {
          "data": {
            "text/plain": [
              "array([[0.48482997, 0.69243603, 0.26941233, 0.24412552, 0.16829104],\n",
              "       [0.21876422, 0.558102  , 0.40383617, 0.06489225, 0.25391541],\n",
              "       [0.24687606, 0.69630427, 0.71227059, 0.14808693, 0.99774049]])"
            ]
          },
          "execution_count": 41,
          "metadata": {},
          "output_type": "execute_result"
        }
      ],
      "source": [
        "# Create a random array of floats between 0 & 1 of shape (3, 5)\n",
        "# p3 = np.random.uniform(0,1, size = (3,5))\n",
        "p3 = np.random.rand(3,5)\n",
        "p3"
      ]
    },
    {
      "cell_type": "code",
      "execution_count": 42,
      "metadata": {
        "id": "N7-hIrHUdx-S"
      },
      "outputs": [
        {
          "data": {
            "text/plain": [
              "array([[6, 3, 7, 4, 6, 9],\n",
              "       [2, 6, 7, 4, 3, 7],\n",
              "       [7, 2, 5, 4, 1, 7],\n",
              "       [5, 1, 4, 0, 9, 5]])"
            ]
          },
          "execution_count": 42,
          "metadata": {},
          "output_type": "execute_result"
        }
      ],
      "source": [
        "# Set the random seed to 42\n",
        "np.random.seed(42)\n",
        "\n",
        "# Create a random array of numbers between 0 & 10 of size (4, 6)\n",
        "p4 = np.random.randint(0,10, size = (4, 6))\n",
        "p4"
      ]
    },
    {
      "cell_type": "markdown",
      "metadata": {
        "id": "NEwoBcn0dx-T"
      },
      "source": [
        "Run the cell above again, what happens?\n",
        "\n",
        "Are the numbers in the array different or the same? Why do think this is?"
      ]
    },
    {
      "cell_type": "code",
      "execution_count": 43,
      "metadata": {},
      "outputs": [],
      "source": [
        "#The array is not changed despite using random module.\n",
        "#  It is due to the seed() function which generates pseudo-random numbers.\n",
        "#  Here, we have set seed value to 42 and every time the code is executed the same random numbers are generated. "
      ]
    },
    {
      "cell_type": "code",
      "execution_count": 44,
      "metadata": {
        "id": "OkHyTKyIdx-T"
      },
      "outputs": [
        {
          "data": {
            "text/plain": [
              "array([1, 2, 3, 4, 5, 7, 9])"
            ]
          },
          "execution_count": 44,
          "metadata": {},
          "output_type": "execute_result"
        }
      ],
      "source": [
        "# Create an array of random numbers between 1 & 10 of size (3, 7)\n",
        "# and save it to a variable\n",
        "p5 = np.random.randint(1,10 , size = (3, 7))\n",
        "p5\n",
        "# Find the unique numbers in the array you just created\n",
        "unique_elements = np.unique(p5)\n",
        "unique_elements"
      ]
    },
    {
      "cell_type": "code",
      "execution_count": 45,
      "metadata": {
        "id": "UfouOfNodx-U"
      },
      "outputs": [
        {
          "name": "stdout",
          "output_type": "stream",
          "text": [
            "0th index = 1\n"
          ]
        }
      ],
      "source": [
        "# Find the 0'th index of the latest array you created\n",
        "print(f\"0th index = {unique_elements[0]}\")"
      ]
    },
    {
      "cell_type": "code",
      "execution_count": 46,
      "metadata": {
        "id": "q4CuGZN3dx-V"
      },
      "outputs": [
        {
          "data": {
            "text/plain": [
              "array([[9, 1, 3, 7, 4, 9, 3],\n",
              "       [5, 3, 7, 5, 9, 7, 2]])"
            ]
          },
          "execution_count": 46,
          "metadata": {},
          "output_type": "execute_result"
        }
      ],
      "source": [
        "# Get the first 2 rows of latest array you created\n",
        "p5[:2]"
      ]
    },
    {
      "cell_type": "code",
      "execution_count": 47,
      "metadata": {
        "id": "hUMIBn5Vdx-V"
      },
      "outputs": [
        {
          "data": {
            "text/plain": [
              "array([[9, 1],\n",
              "       [5, 3]])"
            ]
          },
          "execution_count": 47,
          "metadata": {},
          "output_type": "execute_result"
        }
      ],
      "source": [
        "# Get the first 2 values of the first 2 rows of the latest array\n",
        "#p5.flatten()[:4]\n",
        "p5[:2, :2]"
      ]
    },
    {
      "cell_type": "code",
      "execution_count": 48,
      "metadata": {
        "id": "lbiXPHB1dx-W"
      },
      "outputs": [
        {
          "name": "stdout",
          "output_type": "stream",
          "text": [
            "x1 = \n",
            "[[6 7 2 0 3]\n",
            " [1 7 3 1 5]\n",
            " [5 9 3 5 1]] \n",
            "\n",
            "x2 = \n",
            "[[1 1 1 1 1]\n",
            " [1 1 1 1 1]\n",
            " [1 1 1 1 1]]\n"
          ]
        }
      ],
      "source": [
        "# Create a random array of numbers between 0 & 10 and an array of ones\n",
        "# both of size (3, 5), save them both to variables\n",
        "x1 = np.random.randint(0,10,(3,5))\n",
        "x2 = np.ones((3,5), dtype= int)\n",
        "print(f\"x1 = \\n{x1} \\n\\nx2 = \\n{x2}\")"
      ]
    },
    {
      "cell_type": "code",
      "execution_count": 49,
      "metadata": {
        "id": "lD291D6Xdx-W"
      },
      "outputs": [
        {
          "data": {
            "text/plain": [
              "array([[ 7,  8,  3,  1,  4],\n",
              "       [ 2,  8,  4,  2,  6],\n",
              "       [ 6, 10,  4,  6,  2]])"
            ]
          },
          "execution_count": 49,
          "metadata": {},
          "output_type": "execute_result"
        }
      ],
      "source": [
        "# Add the two arrays together\n",
        "x3 = x1 + x2\n",
        "x3"
      ]
    },
    {
      "cell_type": "code",
      "execution_count": 50,
      "metadata": {
        "id": "iSkUIcWsdx-X"
      },
      "outputs": [
        {
          "data": {
            "text/plain": [
              "array([[1., 1., 1.],\n",
              "       [1., 1., 1.],\n",
              "       [1., 1., 1.],\n",
              "       [1., 1., 1.],\n",
              "       [1., 1., 1.]])"
            ]
          },
          "execution_count": 50,
          "metadata": {},
          "output_type": "execute_result"
        }
      ],
      "source": [
        "# Create another array of ones of shape (5, 3)\n",
        "x4 = np.ones((5,3))\n",
        "x4"
      ]
    },
    {
      "cell_type": "code",
      "execution_count": 51,
      "metadata": {
        "id": "QCmnrUaddx-X"
      },
      "outputs": [
        {
          "ename": "ValueError",
          "evalue": "operands could not be broadcast together with shapes (3,5) (5,3) ",
          "output_type": "error",
          "traceback": [
            "\u001b[1;31m---------------------------------------------------------------------------\u001b[0m",
            "\u001b[1;31mValueError\u001b[0m                                Traceback (most recent call last)",
            "Cell \u001b[1;32mIn[51], line 2\u001b[0m\n\u001b[0;32m      1\u001b[0m \u001b[38;5;66;03m# Try add the array of ones and the other most recent array together\u001b[39;00m\n\u001b[1;32m----> 2\u001b[0m x3 \u001b[38;5;241m+\u001b[39m x4\n",
            "\u001b[1;31mValueError\u001b[0m: operands could not be broadcast together with shapes (3,5) (5,3) "
          ]
        }
      ],
      "source": [
        "# Try add the array of ones and the other most recent array together\n",
        "x3 + x4"
      ]
    },
    {
      "cell_type": "markdown",
      "metadata": {
        "id": "-XuHwt_Sdx-Y"
      },
      "source": [
        "When you try the last cell, it produces an error. Why do think this is?\n",
        "\n",
        "How would you fix it?\n",
        "\n",
        "<!-- => It is because the shape of two arrays are different, here x3 => (3,5) while x4 => (5, 3). So, it produces a broadcasting error.  -->\n",
        "<!--  It can be fixed by transposing one of the two arrays (only here because one is (3,5) and the other is (5,3)) -->"
      ]
    },
    {
      "cell_type": "markdown",
      "metadata": {},
      "source": [
        "While trying to add the above two numpy arrays, it produced a ValueError since shapes of the two arrays viz. x3 ad x4 were different ((3,5) and (5,3) resp.) and so they could not be broadcasted together."
      ]
    },
    {
      "cell_type": "code",
      "execution_count": null,
      "metadata": {},
      "outputs": [
        {
          "data": {
            "text/plain": [
              "(array([[ 4.,  4., 10.,  8.,  6.],\n",
              "        [11.,  8., 10.,  2.,  8.],\n",
              "        [ 7., 11., 10.,  2.,  5.]]),\n",
              " (3, 5))"
            ]
          },
          "execution_count": 228,
          "metadata": {},
          "output_type": "execute_result"
        }
      ],
      "source": [
        "sum = (x3 + x4.T)\n",
        "sum, sum.shape\n"
      ]
    },
    {
      "cell_type": "code",
      "execution_count": null,
      "metadata": {
        "id": "DgdqtakSdx-Y"
      },
      "outputs": [
        {
          "data": {
            "text/plain": [
              "array([[1., 1., 1., 1., 1.],\n",
              "       [1., 1., 1., 1., 1.],\n",
              "       [1., 1., 1., 1., 1.]])"
            ]
          },
          "execution_count": 234,
          "metadata": {},
          "output_type": "execute_result"
        }
      ],
      "source": [
        "# Create another array of ones of shape (3, 5)\n",
        "x5 = np.ones((3,5))\n",
        "x5"
      ]
    },
    {
      "cell_type": "code",
      "execution_count": null,
      "metadata": {
        "id": "R_yoL8Bhdx-Z"
      },
      "outputs": [
        {
          "data": {
            "text/plain": [
              "array([[ 3.,  3.,  9.,  7.,  5.],\n",
              "       [10.,  7.,  9.,  1.,  7.],\n",
              "       [ 6., 10.,  9.,  1.,  4.]])"
            ]
          },
          "execution_count": 236,
          "metadata": {},
          "output_type": "execute_result"
        }
      ],
      "source": [
        "# Subtract the new array of ones from the other most recent array\n",
        "diff =  sum - x5\n",
        "diff"
      ]
    },
    {
      "cell_type": "code",
      "execution_count": null,
      "metadata": {
        "id": "qyHZZNymdx-a"
      },
      "outputs": [
        {
          "data": {
            "text/plain": [
              "array([[ 4.,  4., 10.,  8.,  6.],\n",
              "       [11.,  8., 10.,  2.,  8.],\n",
              "       [ 7., 11., 10.,  2.,  5.]])"
            ]
          },
          "execution_count": 238,
          "metadata": {},
          "output_type": "execute_result"
        }
      ],
      "source": [
        "# Multiply the ones array with the latest array\n",
        "mul = sum * x5\n",
        "mul"
      ]
    },
    {
      "cell_type": "code",
      "execution_count": null,
      "metadata": {
        "id": "oDOxpSAndx-a"
      },
      "outputs": [
        {
          "data": {
            "text/plain": [
              "array([[ 16.,  16., 100.,  64.,  36.],\n",
              "       [121.,  64., 100.,   4.,  64.],\n",
              "       [ 49., 121., 100.,   4.,  25.]])"
            ]
          },
          "execution_count": 245,
          "metadata": {},
          "output_type": "execute_result"
        }
      ],
      "source": [
        "# Take the latest array to the power of 2 using '**'\n",
        "mul ** 2"
      ]
    },
    {
      "cell_type": "code",
      "execution_count": null,
      "metadata": {
        "id": "MyU6Cfz-dx-b"
      },
      "outputs": [
        {
          "data": {
            "text/plain": [
              "array([[ 16.,  16., 100.,  64.,  36.],\n",
              "       [121.,  64., 100.,   4.,  64.],\n",
              "       [ 49., 121., 100.,   4.,  25.]])"
            ]
          },
          "execution_count": 247,
          "metadata": {},
          "output_type": "execute_result"
        }
      ],
      "source": [
        "# Do the same thing with np.square()\n",
        "sq = np.square(mul)\n",
        "sq"
      ]
    },
    {
      "cell_type": "code",
      "execution_count": null,
      "metadata": {
        "id": "pI6STNRqdx-b"
      },
      "outputs": [
        {
          "data": {
            "text/plain": [
              "58.93333333333333"
            ]
          },
          "execution_count": 248,
          "metadata": {},
          "output_type": "execute_result"
        }
      ],
      "source": [
        "# Find the mean of the latest array using np.mean()\n",
        "np.mean(sq)"
      ]
    },
    {
      "cell_type": "code",
      "execution_count": null,
      "metadata": {
        "id": "zzJDny29dx-c"
      },
      "outputs": [
        {
          "data": {
            "text/plain": [
              "121.0"
            ]
          },
          "execution_count": 249,
          "metadata": {},
          "output_type": "execute_result"
        }
      ],
      "source": [
        "# Find the maximum of the latest array using np.max()\n",
        "np.max(sq)"
      ]
    },
    {
      "cell_type": "code",
      "execution_count": null,
      "metadata": {
        "id": "6S7o_0Sfdx-d"
      },
      "outputs": [
        {
          "data": {
            "text/plain": [
              "4.0"
            ]
          },
          "execution_count": 250,
          "metadata": {},
          "output_type": "execute_result"
        }
      ],
      "source": [
        "# Find the minimum of the latest array using np.min()\n",
        "np.min(sq)"
      ]
    },
    {
      "cell_type": "code",
      "execution_count": null,
      "metadata": {
        "id": "Sl02GGI0dx-d"
      },
      "outputs": [
        {
          "data": {
            "text/plain": [
              "40.28145423834094"
            ]
          },
          "execution_count": 257,
          "metadata": {},
          "output_type": "execute_result"
        }
      ],
      "source": [
        "# Find the standard deviation of the latest array\n",
        "np.std(sq)"
      ]
    },
    {
      "cell_type": "code",
      "execution_count": null,
      "metadata": {
        "id": "hRLTScIwdx-e"
      },
      "outputs": [
        {
          "data": {
            "text/plain": [
              "1622.5955555555554"
            ]
          },
          "execution_count": 258,
          "metadata": {},
          "output_type": "execute_result"
        }
      ],
      "source": [
        "# Find the variance of the latest array\n",
        "np.var(sq)"
      ]
    },
    {
      "cell_type": "code",
      "execution_count": null,
      "metadata": {
        "id": "Ly5BK2zOdx-e"
      },
      "outputs": [
        {
          "data": {
            "text/plain": [
              "array([[[ 16.],\n",
              "        [ 16.],\n",
              "        [100.],\n",
              "        [ 64.],\n",
              "        [ 36.]],\n",
              "\n",
              "       [[121.],\n",
              "        [ 64.],\n",
              "        [100.],\n",
              "        [  4.],\n",
              "        [ 64.]],\n",
              "\n",
              "       [[ 49.],\n",
              "        [121.],\n",
              "        [100.],\n",
              "        [  4.],\n",
              "        [ 25.]]])"
            ]
          },
          "execution_count": 261,
          "metadata": {},
          "output_type": "execute_result"
        }
      ],
      "source": [
        "# Reshape the latest array to (3, 5, 1)\n",
        "sq1 = sq.reshape(3, 5, 1)\n",
        "sq1"
      ]
    },
    {
      "cell_type": "code",
      "execution_count": null,
      "metadata": {
        "id": "5Kj_ULnKdx-f"
      },
      "outputs": [
        {
          "data": {
            "text/plain": [
              "array([[[ 16., 121.,  49.],\n",
              "        [ 16.,  64., 121.],\n",
              "        [100., 100., 100.],\n",
              "        [ 64.,   4.,   4.],\n",
              "        [ 36.,  64.,  25.]]])"
            ]
          },
          "execution_count": 262,
          "metadata": {},
          "output_type": "execute_result"
        }
      ],
      "source": [
        "# Transpose the latest array\n",
        "sq1.T"
      ]
    },
    {
      "cell_type": "markdown",
      "metadata": {
        "id": "wgUHL2-edx-g"
      },
      "source": [
        "What does the transpose do?"
      ]
    },
    {
      "cell_type": "markdown",
      "metadata": {},
      "source": [
        "Transpose (.T),an attribute, reverses the axes of an array."
      ]
    },
    {
      "cell_type": "code",
      "execution_count": null,
      "metadata": {
        "id": "fJQ0-SEKdx-g"
      },
      "outputs": [
        {
          "data": {
            "text/plain": [
              "(array([[0, 8, 6],\n",
              "        [8, 7, 0],\n",
              "        [7, 7, 2]]),\n",
              " array([[0, 7],\n",
              "        [2, 2],\n",
              "        [0, 4]]))"
            ]
          },
          "execution_count": 25,
          "metadata": {},
          "output_type": "execute_result"
        }
      ],
      "source": [
        "# Create two arrays of random integers between 0 to 10\n",
        "# one of size (3, 3) the other of size (3, 2)\n",
        "p1 = np.random.randint(0,10, size = (3, 3))\n",
        "p2 = np.random.randint(0, 10, size=(3, 2))\n",
        "p1,p2"
      ]
    },
    {
      "cell_type": "code",
      "execution_count": null,
      "metadata": {
        "id": "r8mYSvE-dx-h"
      },
      "outputs": [
        {
          "data": {
            "text/plain": [
              "array([[16, 40],\n",
              "       [14, 70],\n",
              "       [14, 71]])"
            ]
          },
          "execution_count": 26,
          "metadata": {},
          "output_type": "execute_result"
        }
      ],
      "source": [
        "# Perform a dot product on the two newest arrays you created\n",
        "np.dot(p1,p2)"
      ]
    },
    {
      "cell_type": "code",
      "execution_count": 54,
      "metadata": {
        "id": "J8iJuvM7dx-1"
      },
      "outputs": [
        {
          "data": {
            "text/plain": [
              "(array([[9, 1, 9],\n",
              "        [3, 7, 6],\n",
              "        [8, 7, 4],\n",
              "        [1, 4, 7]]),\n",
              " array([[9, 8, 8],\n",
              "        [0, 8, 6],\n",
              "        [8, 7, 0],\n",
              "        [7, 7, 2]]))"
            ]
          },
          "execution_count": 54,
          "metadata": {},
          "output_type": "execute_result"
        }
      ],
      "source": [
        "# Create two arrays of random integers between 0 to 10\n",
        "# both of size (4, 3)\n",
        "p3 = np.random.randint(0,10, size = (4, 3))\n",
        "p4 = np.random.randint(0, 10, size=(4, 3))\n",
        "p3,p4"
      ]
    },
    {
      "cell_type": "code",
      "execution_count": 55,
      "metadata": {
        "id": "6SVptR5odx-1"
      },
      "outputs": [
        {
          "ename": "ValueError",
          "evalue": "shapes (4,3) and (4,3) not aligned: 3 (dim 1) != 4 (dim 0)",
          "output_type": "error",
          "traceback": [
            "\u001b[1;31m---------------------------------------------------------------------------\u001b[0m",
            "\u001b[1;31mValueError\u001b[0m                                Traceback (most recent call last)",
            "Cell \u001b[1;32mIn[55], line 2\u001b[0m\n\u001b[0;32m      1\u001b[0m \u001b[38;5;66;03m# Perform a dot product on the two newest arrays you created\u001b[39;00m\n\u001b[1;32m----> 2\u001b[0m np\u001b[38;5;241m.\u001b[39mdot(p3,p4)\n",
            "\u001b[1;31mValueError\u001b[0m: shapes (4,3) and (4,3) not aligned: 3 (dim 1) != 4 (dim 0)"
          ]
        }
      ],
      "source": [
        "# Perform a dot product on the two newest arrays you created\n",
        "np.dot(p3,p4)"
      ]
    },
    {
      "cell_type": "markdown",
      "metadata": {
        "id": "aZw3yN68dx-2"
      },
      "source": [
        "It doesn't work. How would you fix it?"
      ]
    },
    {
      "cell_type": "markdown",
      "metadata": {},
      "source": [
        "It Doesn't work because the shape of both the arrays are same. It can be fixed by transposing one of the arrays such that their inner dimensions are same."
      ]
    },
    {
      "cell_type": "code",
      "execution_count": 58,
      "metadata": {
        "id": "l965AXjPdx-3"
      },
      "outputs": [
        {
          "data": {
            "text/plain": [
              "(array([[161,  62,  79,  88],\n",
              "        [131,  92,  73,  82],\n",
              "        [160,  80, 113, 113],\n",
              "        [ 97,  74,  36,  49]]),\n",
              " array([[152, 159,  92],\n",
              "        [ 93, 141,  58],\n",
              "        [162, 197, 122]]))"
            ]
          },
          "execution_count": 58,
          "metadata": {},
          "output_type": "execute_result"
        }
      ],
      "source": [
        "# Take the latest two arrays, perform a transpose on one of them and then perform\n",
        "# a dot product on them both\n",
        "np.dot(p3,p4.T), np.dot(p3.T, p4)"
      ]
    },
    {
      "cell_type": "markdown",
      "metadata": {
        "id": "UXPwYc92dx-4"
      },
      "source": [
        "Notice how performing a transpose allows the dot product to happen.\n",
        "\n",
        "Why is this?\n",
        "\n",
        "Checking out the documentation on [`np.dot()`](https://docs.scipy.org/doc/numpy/reference/generated/numpy.dot.html) may help, as well as reading [Math is Fun's guide on the dot product](https://www.mathsisfun.com/algebra/vectors-dot-product.html).\n",
        "\n",
        "Let's now compare arrays."
      ]
    },
    {
      "cell_type": "code",
      "execution_count": 61,
      "metadata": {
        "id": "MZIkaacbdx-4"
      },
      "outputs": [
        {
          "data": {
            "text/plain": [
              "(array([[9, 8, 4, 5],\n",
              "        [3, 9, 6, 8],\n",
              "        [6, 0, 0, 8]]),\n",
              " array([[8, 3, 8, 2],\n",
              "        [6, 5, 7, 8],\n",
              "        [4, 0, 2, 9]]))"
            ]
          },
          "execution_count": 61,
          "metadata": {},
          "output_type": "execute_result"
        }
      ],
      "source": [
        "# Create two arrays of random integers between 0 & 10 of the same shape\n",
        "# and save them to variables\n",
        "p5 = np.random.randint(0,10, (3,4))\n",
        "p6 = np.random.randint(0,10, (3,4))\n",
        "p5,p6"
      ]
    },
    {
      "cell_type": "code",
      "execution_count": 62,
      "metadata": {
        "id": "v8Bz18GKdx-5"
      },
      "outputs": [
        {
          "data": {
            "text/plain": [
              "array([[ True,  True, False,  True],\n",
              "       [False,  True, False, False],\n",
              "       [ True, False, False, False]])"
            ]
          },
          "execution_count": 62,
          "metadata": {},
          "output_type": "execute_result"
        }
      ],
      "source": [
        "# Compare the two arrays with '>'\n",
        "p5>p6"
      ]
    },
    {
      "cell_type": "markdown",
      "metadata": {
        "id": "3H2sJf-3dx-6"
      },
      "source": [
        "What happens when you compare the arrays with `>`?"
      ]
    },
    {
      "cell_type": "markdown",
      "metadata": {},
      "source": [
        "This compares each corresponding elements of the two arrays and returns True if the element in the first array is greater otherwise returns False."
      ]
    },
    {
      "cell_type": "code",
      "execution_count": 63,
      "metadata": {
        "id": "TaRl4RUgdx-7"
      },
      "outputs": [
        {
          "data": {
            "text/plain": [
              "array([[ True,  True, False,  True],\n",
              "       [False,  True, False,  True],\n",
              "       [ True,  True, False, False]])"
            ]
          },
          "execution_count": 63,
          "metadata": {},
          "output_type": "execute_result"
        }
      ],
      "source": [
        "# Compare the two arrays with '>='\n",
        "p5 >= p6"
      ]
    },
    {
      "cell_type": "code",
      "execution_count": null,
      "metadata": {
        "id": "2XkCvwyndx-7"
      },
      "outputs": [
        {
          "data": {
            "text/plain": [
              "(array([[9, 8, 4, 5],\n",
              "        [3, 9, 6, 8],\n",
              "        [6, 0, 0, 8]]),\n",
              " array([9, 8, 9, 8, 8]),\n",
              " (array([0, 0, 1, 1, 2], dtype=int64), array([0, 1, 1, 3, 3], dtype=int64)))"
            ]
          },
          "execution_count": 82,
          "metadata": {},
          "output_type": "execute_result"
        }
      ],
      "source": [
        "# Find which elements of the first array are greater than 7\n",
        "p5, p5[p5 > 7], np.nonzero(p5>7) # nonzero() displays the indices of elements"
      ]
    },
    {
      "cell_type": "code",
      "execution_count": 79,
      "metadata": {
        "id": "fZIc0xlPdx-8"
      },
      "outputs": [
        {
          "data": {
            "text/plain": [
              "array([8, 0])"
            ]
          },
          "execution_count": 79,
          "metadata": {},
          "output_type": "execute_result"
        }
      ],
      "source": [
        "# Which parts of each array are equal? (try using '==')\n",
        "equals = p5[p5 == p6]\n",
        "equals"
      ]
    },
    {
      "cell_type": "code",
      "execution_count": 93,
      "metadata": {
        "id": "0oNG9CZOdx-8"
      },
      "outputs": [
        {
          "data": {
            "text/plain": [
              "array([[4, 5, 8, 9],\n",
              "       [3, 6, 8, 9],\n",
              "       [0, 0, 6, 8]])"
            ]
          },
          "execution_count": 93,
          "metadata": {},
          "output_type": "execute_result"
        }
      ],
      "source": [
        "# Sort one of the arrays you just created in ascending order\n",
        "p7 = np.sort(p5, axis = 1) # if axis = 1, it sorts the array row-wise and if axis = 0, it sorts column wise. \n",
        "p7"
      ]
    },
    {
      "cell_type": "code",
      "execution_count": 97,
      "metadata": {
        "id": "5KxcN097dx-9"
      },
      "outputs": [
        {
          "data": {
            "text/plain": [
              "(array([[8, 3, 8, 2],\n",
              "        [6, 5, 7, 8],\n",
              "        [4, 0, 2, 9]]),\n",
              " array([[3, 1, 0, 2],\n",
              "        [1, 0, 2, 3],\n",
              "        [1, 2, 0, 3]], dtype=int64))"
            ]
          },
          "execution_count": 97,
          "metadata": {},
          "output_type": "execute_result"
        }
      ],
      "source": [
        "# Sort the indexes of one of the arrays you just created\n",
        "p6, np.argsort(p6)"
      ]
    },
    {
      "cell_type": "code",
      "execution_count": 100,
      "metadata": {
        "id": "6389oZG8dx--"
      },
      "outputs": [
        {
          "data": {
            "text/plain": [
              "(11, 9)"
            ]
          },
          "execution_count": 100,
          "metadata": {},
          "output_type": "execute_result"
        }
      ],
      "source": [
        "# Find the index with the maximum value in one of the arrays you've created\n",
        "np.argmax(p6), np.max(p6)"
      ]
    },
    {
      "cell_type": "code",
      "execution_count": 101,
      "metadata": {
        "id": "Yu0i8Ahndx--"
      },
      "outputs": [
        {
          "data": {
            "text/plain": [
              "9"
            ]
          },
          "execution_count": 101,
          "metadata": {},
          "output_type": "execute_result"
        }
      ],
      "source": [
        "# Find the index with the minimum value in one of the arrays you've created\n",
        "np.argmin(p6)"
      ]
    },
    {
      "cell_type": "code",
      "execution_count": 102,
      "metadata": {
        "id": "Z-x69Vo2dx-_"
      },
      "outputs": [
        {
          "data": {
            "text/plain": [
              "array([0, 3, 3], dtype=int64)"
            ]
          },
          "execution_count": 102,
          "metadata": {},
          "output_type": "execute_result"
        }
      ],
      "source": [
        "# Find the indexes with the maximum values down the 1st axis (axis=1)\n",
        "# of one of the arrays you created\n",
        "np.argmax(p6, axis=1)"
      ]
    },
    {
      "cell_type": "code",
      "execution_count": 104,
      "metadata": {
        "id": "2aUfCmiydx_A"
      },
      "outputs": [
        {
          "data": {
            "text/plain": [
              "array([3, 1, 1], dtype=int64)"
            ]
          },
          "execution_count": 104,
          "metadata": {},
          "output_type": "execute_result"
        }
      ],
      "source": [
        "# Find the indexes with the minimum values across the 0th axis (axis=0)\n",
        "# of one of the arrays you created\n",
        "np.argmin(p6, axis=1)"
      ]
    },
    {
      "cell_type": "code",
      "execution_count": 106,
      "metadata": {
        "id": "GC5PlIbtdx_B"
      },
      "outputs": [
        {
          "data": {
            "text/plain": [
              "array([[-0.16606091,  0.21493883, -2.02231493, -0.94305681],\n",
              "       [ 1.40395874, -0.0185508 , -1.67350462, -1.07253183],\n",
              "       [-0.99258618,  0.10234768, -0.43260928, -0.6591823 ]])"
            ]
          },
          "execution_count": 106,
          "metadata": {},
          "output_type": "execute_result"
        }
      ],
      "source": [
        "# Create an array of normally distributed random numbers\n",
        "np.random.randn(3,4)"
      ]
    },
    {
      "cell_type": "code",
      "execution_count": 107,
      "metadata": {
        "id": "j44j4uledx_C"
      },
      "outputs": [
        {
          "data": {
            "text/plain": [
              "array([ 1, 11, 21, 31, 41, 51, 61, 71, 81, 91])"
            ]
          },
          "execution_count": 107,
          "metadata": {},
          "output_type": "execute_result"
        }
      ],
      "source": [
        "# Create an array with 10 evenly spaced numbers between 1 and 100\n",
        "np.arange(1,100,10)"
      ]
    }
  ],
  "metadata": {
    "colab": {
      "provenance": []
    },
    "kernelspec": {
      "display_name": "base",
      "language": "python",
      "name": "python3"
    },
    "language_info": {
      "codemirror_mode": {
        "name": "ipython",
        "version": 3
      },
      "file_extension": ".py",
      "mimetype": "text/x-python",
      "name": "python",
      "nbconvert_exporter": "python",
      "pygments_lexer": "ipython3",
      "version": "3.12.7"
    }
  },
  "nbformat": 4,
  "nbformat_minor": 0
}
